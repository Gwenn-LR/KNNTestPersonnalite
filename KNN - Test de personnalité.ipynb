{
 "cells": [
  {
   "cell_type": "markdown",
   "id": "7c4d5066",
   "metadata": {},
   "source": [
    "# Environnement jupyter"
   ]
  },
  {
   "cell_type": "code",
   "execution_count": 1,
   "id": "1799e11c",
   "metadata": {},
   "outputs": [],
   "source": [
    "from IPython.core.interactiveshell import InteractiveShell\n",
    "InteractiveShell.ast_node_interactivity = \"all\""
   ]
  },
  {
   "cell_type": "markdown",
   "id": "e980940a",
   "metadata": {},
   "source": [
    "# Importation des librairies utilisées"
   ]
  },
  {
   "cell_type": "code",
   "execution_count": 2,
   "id": "6445fc49",
   "metadata": {},
   "outputs": [],
   "source": [
    "import pandas as pd\n",
    "import numpy as np\n",
    "import matplotlib.pyplot as plt"
   ]
  },
  {
   "cell_type": "markdown",
   "id": "3ebc988a",
   "metadata": {},
   "source": [
    "# Données étudiées"
   ]
  },
  {
   "cell_type": "code",
   "execution_count": 3,
   "id": "cdc3b017",
   "metadata": {},
   "outputs": [],
   "source": [
    "dataset = pd.read_csv(\"Run_Questionnaire/DataSetTotal.csv\")"
   ]
  },
  {
   "cell_type": "code",
   "execution_count": 4,
   "id": "de242759",
   "metadata": {},
   "outputs": [
    {
     "name": "stdout",
     "output_type": "stream",
     "text": [
      "<class 'pandas.core.frame.DataFrame'>\n",
      "RangeIndex: 235 entries, 0 to 234\n",
      "Data columns (total 12 columns):\n",
      " #   Column          Non-Null Count  Dtype \n",
      "---  ------          --------------  ----- \n",
      " 0   Q1              227 non-null    object\n",
      " 1   Q2              223 non-null    object\n",
      " 2   Q3              222 non-null    object\n",
      " 3   Q4              225 non-null    object\n",
      " 4   Q5              221 non-null    object\n",
      " 5   Q6              223 non-null    object\n",
      " 6   Q7              225 non-null    object\n",
      " 7   Q8              222 non-null    object\n",
      " 8   Q9              225 non-null    object\n",
      " 9   Q10             227 non-null    object\n",
      " 10  Score           235 non-null    int64 \n",
      " 11  Interpretation  235 non-null    object\n",
      "dtypes: int64(1), object(11)\n",
      "memory usage: 22.2+ KB\n"
     ]
    }
   ],
   "source": [
    "dataset.info()"
   ]
  },
  {
   "cell_type": "markdown",
   "id": "bb7c4dae",
   "metadata": {},
   "source": [
    "#  Prétraitement"
   ]
  },
  {
   "cell_type": "markdown",
   "id": "48a250c8",
   "metadata": {},
   "source": [
    "## Erreurs de saisie corrigibles"
   ]
  },
  {
   "cell_type": "code",
   "execution_count": 5,
   "id": "5d6af64c",
   "metadata": {},
   "outputs": [],
   "source": [
    "for column in dataset.columns:\n",
    "        dataset[column] = dataset[column].astype(str).str.lower()"
   ]
  },
  {
   "cell_type": "markdown",
   "id": "1810a57b",
   "metadata": {},
   "source": [
    "## Remplacement par des NaN"
   ]
  },
  {
   "cell_type": "code",
   "execution_count": 6,
   "id": "c3638bce",
   "metadata": {},
   "outputs": [],
   "source": [
    "# On définit les valeurs qu'il est possible de remplacer avec des valeurs correctes\n",
    "listValA = [\"(a)\", \"1\"]\n",
    "listValB = [\"(b)\", \"2\"]\n",
    "listValC = [\"(c)\", \"3\"]\n",
    "listVal1 = [\"(1)\", \"a\", \"1.0\", \"(a)\"]\n",
    "listVal2 = [\"(2)\", \"b\", \"2.0\", \"(b)\"]\n",
    "listVal3 = [\"(3)\", \"c\", \"3.0\", \"(c)\"]\n",
    "\n",
    "# On différencie les colonnes en fonction des réponses attendues\n",
    "for column in dataset.columns:\n",
    "    if column in [\"Q1\", \"Q2\", \"Q3\", \"Q4\", \"Q5\"]:\n",
    "\n",
    "        # On remplace les valeurs proches des réponses attendues (a, b ou c)\n",
    "        dataset[column] = dataset[column].replace(\n",
    "            to_replace=listValA, value=\"a\")\n",
    "        dataset[column] = dataset[column].replace(\n",
    "            to_replace=listValB, value=\"b\")\n",
    "        dataset[column] = dataset[column].replace(\n",
    "            to_replace=listValC, value=\"c\")\n",
    "\n",
    "        # On remplace les valeurs restantes par des NaN\n",
    "        listValNan = dataset[column].unique()\n",
    "        listValNan = [\n",
    "            val for val in listValNan if val not in (\"a\", \"b\", \"c\")]\n",
    "        dataset[column] = dataset[column].replace(listValNan, np.nan)\n",
    "        #TODO: Possibilité d'utilitser isin() ?\n",
    "\n",
    "    elif column in [\"Q6\", \"Q7\", \"Q8\", \"Q9\", \"Q10\"]:\n",
    "\n",
    "        # On remplace les valeurs proches des réponses attendues (1, 2 ou 3)\n",
    "        dataset[column] = dataset[column].replace(\n",
    "            to_replace=listVal1, value=\"1\")\n",
    "        dataset[column] = dataset[column].replace(\n",
    "            to_replace=listVal2, value=\"2\")\n",
    "        dataset[column] = dataset[column].replace(\n",
    "            to_replace=listVal3, value=\"3\")\n",
    "\n",
    "        # On remplace les valeurs restantes par des NaN\n",
    "        listValNan = dataset[column].unique()\n",
    "        listValNan = [\n",
    "            val for val in listValNan if val not in (\"1\", \"2\", \"3\")]\n",
    "        dataset[column] = dataset[column].replace(listValNan, np.nan)"
   ]
  },
  {
   "cell_type": "markdown",
   "id": "e91f7b73",
   "metadata": {},
   "source": [
    "## Remplacement des NaN par le mode"
   ]
  },
  {
   "cell_type": "code",
   "execution_count": 7,
   "id": "4e4904e6",
   "metadata": {},
   "outputs": [],
   "source": [
    "dataset = dataset.apply(lambda x:x.fillna(x.value_counts().index[0])) # Le mode ne fonctionne pas vu que l'on a plus de valeur NaN que les autres"
   ]
  },
  {
   "cell_type": "markdown",
   "id": "92c433ee",
   "metadata": {},
   "source": [
    "## Recalcul du Score"
   ]
  },
  {
   "cell_type": "code",
   "execution_count": 8,
   "id": "07304911",
   "metadata": {},
   "outputs": [],
   "source": [
    "scores = []\n",
    "interpretations = []\n",
    "lignes, colonnes = dataset.shape\n",
    "\n",
    "for ligne in range(lignes):\n",
    "    score = 0\n",
    "    for colonne in range(colonnes):\n",
    "        valeur = dataset.iloc[ligne, colonne]\n",
    "        if valeur == 'a' or valeur == '1':\n",
    "            score += 1\n",
    "        elif valeur == 'b' or valeur == '2':\n",
    "            score += 0\n",
    "        elif valeur == 'c' or valeur == '3':\n",
    "            score += 2\n",
    "\n",
    "    scores.append(score)\n",
    "\n",
    "    if score < 30 and score >=20:\n",
    "        label = 'A'\n",
    "    elif score < 20 and score >=10:\n",
    "        label = 'B'\n",
    "    elif score < 10:\n",
    "        label = 'C'\n",
    "\n",
    "    interpretations.append(label)\n",
    "\n",
    "dataset[\"Score\"] = scores\n",
    "dataset[\"Interpretation\"] = interpretations"
   ]
  },
  {
   "cell_type": "markdown",
   "id": "2af8da18",
   "metadata": {},
   "source": [
    "## Encodage des valeurs catégorielles"
   ]
  },
  {
   "cell_type": "code",
   "execution_count": 9,
   "id": "300d3cb5",
   "metadata": {},
   "outputs": [],
   "source": [
    "from sklearn.preprocessing import LabelEncoder\n",
    "\n",
    "labelEncoder = LabelEncoder()\n",
    "\n",
    "for column in dataset.columns:\n",
    "    if column not in [\"Score\", \"Interpretation\"]:\n",
    "        dataset[column] = labelEncoder.fit_transform(dataset[column])"
   ]
  },
  {
   "cell_type": "markdown",
   "id": "58d3bd19",
   "metadata": {},
   "source": [
    "## Données prétraitées"
   ]
  },
  {
   "cell_type": "code",
   "execution_count": 10,
   "id": "7f2ed211",
   "metadata": {},
   "outputs": [
    {
     "name": "stdout",
     "output_type": "stream",
     "text": [
      "<class 'pandas.core.frame.DataFrame'>\n",
      "RangeIndex: 235 entries, 0 to 234\n",
      "Data columns (total 12 columns):\n",
      " #   Column          Non-Null Count  Dtype \n",
      "---  ------          --------------  ----- \n",
      " 0   Q1              235 non-null    int32 \n",
      " 1   Q2              235 non-null    int32 \n",
      " 2   Q3              235 non-null    int32 \n",
      " 3   Q4              235 non-null    int32 \n",
      " 4   Q5              235 non-null    int32 \n",
      " 5   Q6              235 non-null    int32 \n",
      " 6   Q7              235 non-null    int32 \n",
      " 7   Q8              235 non-null    int32 \n",
      " 8   Q9              235 non-null    int32 \n",
      " 9   Q10             235 non-null    int32 \n",
      " 10  Score           235 non-null    int64 \n",
      " 11  Interpretation  235 non-null    object\n",
      "dtypes: int32(10), int64(1), object(1)\n",
      "memory usage: 13.0+ KB\n"
     ]
    }
   ],
   "source": [
    "dataset.info()"
   ]
  },
  {
   "cell_type": "markdown",
   "id": "fe3cb27a",
   "metadata": {},
   "source": [
    "# Séparation des données"
   ]
  },
  {
   "cell_type": "code",
   "execution_count": 11,
   "id": "3b3c04ea",
   "metadata": {},
   "outputs": [],
   "source": [
    "from sklearn.model_selection import train_test_split\n",
    "\n",
    "X = dataset[dataset.columns[:-2]]\n",
    "y = dataset[dataset.columns[-1]]\n",
    "\n",
    "XTrain, XTest, yTrain, yTest = train_test_split(X, y, test_size=0.2, shuffle=True)"
   ]
  },
  {
   "cell_type": "markdown",
   "id": "a02fa406",
   "metadata": {},
   "source": [
    "# KNN from Scratch"
   ]
  },
  {
   "cell_type": "markdown",
   "id": "b341e927",
   "metadata": {},
   "source": [
    "## Fonction distance"
   ]
  },
  {
   "cell_type": "code",
   "execution_count": 12,
   "id": "edb1320a",
   "metadata": {},
   "outputs": [],
   "source": [
    "def distance(X, Y, metric=\"euclidean\", **kargs):\n",
    "\n",
    "    if kargs.items():   # On commence par tester la présence d'arguments supplémentaires\n",
    "        \n",
    "        for key,value in kargs.items():\n",
    "            if key == 'p' : # On récupère l'ordre de la métrique si elle est donnée en entrée par l'utilisateur\n",
    "                p = value\n",
    "    else :\n",
    "        p = 3\n",
    "    \n",
    "    if metric == 'euclidean' :\n",
    "        dis = np.sqrt(np.sum((X-Y)**2))\n",
    "    elif metric == 'manhattan' :\n",
    "        dis = np.abs(np.sum(X-Y))\n",
    "    elif metric == 'minkowski':\n",
    "            dis = (np.sum(np.abs(X-Y))**p)**(1/p)\n",
    "\n",
    "    return dis"
   ]
  },
  {
   "cell_type": "markdown",
   "id": "6ec3db2a",
   "metadata": {},
   "source": [
    "## Fonction modèle"
   ]
  },
  {
   "cell_type": "code",
   "execution_count": 32,
   "id": "507af113",
   "metadata": {},
   "outputs": [],
   "source": [
    "def knn(X_train, X_test, y_train, k, metric) :\n",
    "    \n",
    "    resultat = []\n",
    "\n",
    "    for j in range(len(X_test)):    # On parcourt le dataset de test\n",
    "        distances = []\n",
    "\n",
    "        d_T = X_test.iloc[j,:]  # On récupère chaque entrée du dataset\n",
    "\n",
    "        for i in range(len(X_train)):   # On parcourt le dataset du train\n",
    "            d_A = X_train.iloc[i,:] # On récupère chaque entrée du dataset\n",
    "        \n",
    "            dis = distance(d_T, d_A, metric=metric) # On calcule la distance entre ces deux entrées\n",
    "            distances.append(dis)   # On enregistre la valeur de la distance\n",
    "\n",
    "        indexDistanceTriees = np.argsort(distances)   # On récupère les index des distances triées\n",
    "\n",
    "        index_petite_distance = indexDistanceTriees[:k] # On récupère les k premières valeurs\n",
    "\n",
    "        Pred = y_train.iloc[index_petite_distance]  # On récupère les prédictions associées à ces valeurs\n",
    "\n",
    "        Pred = [np.sum((Pred == 'A').astype(int)), np.sum((Pred == 'B').astype(int)), np.sum((Pred == 'C').astype(int))]    # On somme le nombre des prédictions efectuées par classe\n",
    "\n",
    "        Pred = np.argmax(Pred)  # On récupère la valeur la plus présente parmis les k voisins\n",
    "\n",
    "        if Pred == 0:\n",
    "            P = 'A'\n",
    "        elif Pred == 1 :\n",
    "            P = 'B' \n",
    "        else : \n",
    "            P = 'C'\n",
    "        \n",
    "        resultat.append(P)  # On convertie les valeurs en nom de classe et on l'ajoute au résultat\n",
    "        \n",
    "    return resultat"
   ]
  },
  {
   "cell_type": "markdown",
   "id": "4f56c141",
   "metadata": {},
   "source": [
    "## Expérimentation"
   ]
  },
  {
   "cell_type": "code",
   "execution_count": 14,
   "id": "99e2a5ab",
   "metadata": {},
   "outputs": [],
   "source": [
    "from sklearn.metrics import accuracy_score"
   ]
  },
  {
   "cell_type": "markdown",
   "id": "7188e639",
   "metadata": {},
   "source": [
    "### Distance euclidienne"
   ]
  },
  {
   "cell_type": "code",
   "execution_count": 15,
   "id": "539b482c",
   "metadata": {},
   "outputs": [
    {
     "name": "stdout",
     "output_type": "stream",
     "text": [
      "Précision pour k=1 : 0.8723404255319149\n",
      "Précision pour k=3 : 0.8723404255319149\n",
      "Précision pour k=5 : 0.8936170212765957\n",
      "Précision pour k=7 : 0.8723404255319149\n",
      "Précision pour k=9 : 0.8936170212765957\n",
      "Précision pour k=11 : 0.8936170212765957\n",
      "Précision pour k=13 : 0.8723404255319149\n"
     ]
    }
   ],
   "source": [
    "scoresEuclidean = []\n",
    "index = []\n",
    "\n",
    "for i in range(1, 15):\n",
    "        if i%2 == 1:\n",
    "            index.append(i)\n",
    "            \n",
    "            \n",
    "            yPredEuclidean = knn(XTrain, XTest, yTrain, i, metric=\"euclidean\")\n",
    "            scoreEuclidean = accuracy_score(yTest, yPredEuclidean)\n",
    "            \n",
    "            print(f\"Précision pour k={i} : {scoreEuclidean}\")\n",
    "            scoresEuclidean.append(scoreEuclidean)"
   ]
  },
  {
   "cell_type": "markdown",
   "id": "bfa8eaa1",
   "metadata": {},
   "source": [
    "### Distance manhattan"
   ]
  },
  {
   "cell_type": "code",
   "execution_count": 16,
   "id": "791d6b7a",
   "metadata": {},
   "outputs": [
    {
     "name": "stdout",
     "output_type": "stream",
     "text": [
      "Précision pour k=1 : 0.6808510638297872\n",
      "Précision pour k=3 : 0.7659574468085106\n",
      "Précision pour k=5 : 0.7659574468085106\n",
      "Précision pour k=7 : 0.7659574468085106\n",
      "Précision pour k=9 : 0.7446808510638298\n",
      "Précision pour k=11 : 0.7446808510638298\n",
      "Précision pour k=13 : 0.8085106382978723\n"
     ]
    }
   ],
   "source": [
    "scoresManhattan = []\n",
    "index = []\n",
    "\n",
    "for i in range(1, 15):\n",
    "        if i%2 == 1:\n",
    "            index.append(i)\n",
    "            \n",
    "            \n",
    "            yPredManhattan = knn(XTrain, XTest, yTrain, i, metric=\"manhattan\")\n",
    "            scoreManhattan = accuracy_score(yTest, yPredManhattan)\n",
    "            \n",
    "            print(f\"Précision pour k={i} : {scoreManhattan}\")\n",
    "            scoresManhattan.append(scoreManhattan)"
   ]
  },
  {
   "cell_type": "markdown",
   "id": "5cc80ebb",
   "metadata": {},
   "source": [
    "### Distance minkowski"
   ]
  },
  {
   "cell_type": "code",
   "execution_count": 17,
   "id": "2d13b5c3",
   "metadata": {},
   "outputs": [
    {
     "name": "stdout",
     "output_type": "stream",
     "text": [
      "Précision pour k=1 : 0.9148936170212766\n",
      "Précision pour k=3 : 0.8723404255319149\n",
      "Précision pour k=5 : 0.8723404255319149\n",
      "Précision pour k=7 : 0.9574468085106383\n",
      "Précision pour k=9 : 0.9361702127659575\n",
      "Précision pour k=11 : 0.9361702127659575\n",
      "Précision pour k=13 : 0.9361702127659575\n"
     ]
    }
   ],
   "source": [
    "scoresMinkowski = []\n",
    "index = []\n",
    "\n",
    "for i in range(1, 15):\n",
    "        if i%2 == 1:\n",
    "            index.append(i)\n",
    "            \n",
    "            \n",
    "            yPredMinkowski = knn(XTrain, XTest, yTrain, i, metric=\"minkowski\")\n",
    "            scoreMinkowski = accuracy_score(yTest, yPredMinkowski)\n",
    "            \n",
    "            print(f\"Précision pour k={i} : {scoreMinkowski}\")\n",
    "            scoresMinkowski.append(scoreMinkowski)"
   ]
  },
  {
   "cell_type": "markdown",
   "id": "8bd9ea48",
   "metadata": {},
   "source": [
    "## Performances"
   ]
  },
  {
   "cell_type": "code",
   "execution_count": 18,
   "id": "4de6daa5",
   "metadata": {},
   "outputs": [
    {
     "data": {
      "image/png": "[encoded data removed]",
      "text/plain": [
       "<Figure size 432x288 with 1 Axes>"
      ]
     },
     "metadata": {
      "needs_background": "light"
     },
     "output_type": "display_data"
    }
   ],
   "source": [
    "plt.plot(index, scoresEuclidean, linestyle='--', marker='o', markerfacecolor='b', label=\"euclidean\")\n",
    "plt.plot(index, scoresManhattan, linestyle='--', marker='o', markerfacecolor='y', label=\"manhattan\")\n",
    "plt.plot(index, scoresMinkowski, linestyle='--', marker='o', markerfacecolor='g', label=\"minkowski\")\n",
    "\n",
    "plt.title(\"Performances des différents modèles\")\n",
    "plt.xlabel(\"k\")\n",
    "plt.ylabel(\"Précision\")\n",
    "plt.grid()\n",
    "plt.legend()\n",
    "plt.show();"
   ]
  },
  {
   "cell_type": "code",
   "execution_count": 33,
   "id": "4a906871",
   "metadata": {},
   "outputs": [
    {
     "name": "stdout",
     "output_type": "stream",
     "text": [
      "Précision : 95.74%\n"
     ]
    }
   ],
   "source": [
    "yPred = knn(XTrain, XTest, yTrain, 7, metric=\"minkowski\")\n",
    "    \n",
    "accuracy = accuracy_score(yTest, yPred)*100\n",
    "print(f\"Précision : {accuracy:.2f}%\")"
   ]
  },
  {
   "cell_type": "markdown",
   "id": "8c30d52e",
   "metadata": {},
   "source": [
    "## Matrice de confusion"
   ]
  },
  {
   "cell_type": "code",
   "execution_count": 20,
   "id": "8ab0f781",
   "metadata": {},
   "outputs": [
    {
     "data": {
      "image/png": "[encoded data removed]",
      "text/plain": [
       "<Figure size 432x288 with 2 Axes>"
      ]
     },
     "metadata": {
      "needs_background": "light"
     },
     "output_type": "display_data"
    }
   ],
   "source": [
    "from sklearn.metrics import confusion_matrix, ConfusionMatrixDisplay\n",
    "\n",
    "cm = confusion_matrix(yTest, yPred)\n",
    "disp = ConfusionMatrixDisplay(confusion_matrix=cm)\n",
    "disp.plot();"
   ]
  },
  {
   "cell_type": "markdown",
   "id": "95f4e35b",
   "metadata": {},
   "source": [
    "# KNN Sklearn"
   ]
  },
  {
   "cell_type": "markdown",
   "id": "81036f68",
   "metadata": {},
   "source": [
    "## Importation de la classe sklearn.neighbors"
   ]
  },
  {
   "cell_type": "code",
   "execution_count": 21,
   "id": "687f8202",
   "metadata": {},
   "outputs": [],
   "source": [
    "from sklearn.neighbors import KNeighborsClassifier\n",
    "\n",
    "knn = KNeighborsClassifier()"
   ]
  },
  {
   "cell_type": "markdown",
   "id": "c3c28ade",
   "metadata": {},
   "source": [
    "## Préparation des données"
   ]
  },
  {
   "cell_type": "markdown",
   "id": "89f8ac36",
   "metadata": {},
   "source": [
    "Les données ont déjà été préparées en amont de la partie KNN from Scratch (erreurs, remplacement par des NaN, remplacement par les modes et encodage des valeurs catégorielles).\n",
    "On étudiera l'utilité de normaliser et de standardiser les valeurs (caractéristiques ou cibles ?)."
   ]
  },
  {
   "cell_type": "code",
   "execution_count": 22,
   "id": "8afd8920",
   "metadata": {},
   "outputs": [],
   "source": [
    "from sklearn.preprocessing import MinMaxScaler\n",
    "\n",
    "minMaxScaler = MinMaxScaler()\n",
    "\n",
    "X = pd.DataFrame(minMaxScaler.fit_transform(X), columns=X.columns)"
   ]
  },
  {
   "cell_type": "markdown",
   "id": "af0e374f",
   "metadata": {},
   "source": [
    "## K-fold validation"
   ]
  },
  {
   "cell_type": "code",
   "execution_count": 23,
   "id": "7b29ccad",
   "metadata": {},
   "outputs": [
    {
     "data": {
      "text/plain": [
       "3"
      ]
     },
     "execution_count": 23,
     "metadata": {},
     "output_type": "execute_result"
    },
    {
     "data": {
      "text/plain": [
       "KNeighborsClassifier()"
      ]
     },
     "execution_count": 23,
     "metadata": {},
     "output_type": "execute_result"
    },
    {
     "name": "stdout",
     "output_type": "stream",
     "text": [
      "Précision : 79.75%\n"
     ]
    },
    {
     "data": {
      "text/plain": [
       "KNeighborsClassifier()"
      ]
     },
     "execution_count": 23,
     "metadata": {},
     "output_type": "execute_result"
    },
    {
     "name": "stdout",
     "output_type": "stream",
     "text": [
      "Précision : 79.49%\n"
     ]
    },
    {
     "data": {
      "text/plain": [
       "KNeighborsClassifier()"
      ]
     },
     "execution_count": 23,
     "metadata": {},
     "output_type": "execute_result"
    },
    {
     "name": "stdout",
     "output_type": "stream",
     "text": [
      "Précision : 85.90%\n"
     ]
    }
   ],
   "source": [
    "from sklearn.model_selection import KFold\n",
    "\n",
    "kf = KFold(n_splits=3)\n",
    "kf.get_n_splits(X)\n",
    "\n",
    "for train_index, test_index in kf.split(X):\n",
    "    #print(\"\\nTRAIN:\", train_index, \"\\nTEST:\", test_index)\n",
    "    X_train, X_test = X.iloc[train_index, :], X.iloc[test_index, :]\n",
    "    y_train, y_test = y.iloc[train_index], y.iloc[test_index]\n",
    "    \n",
    "    knn.fit(X_train, y_train)\n",
    "    y_pred = knn.predict(X_test)\n",
    "    \n",
    "    accuracy = accuracy_score(y_pred, y_test)*100\n",
    "    print(f\"Précision : {accuracy:.2f}%\")"
   ]
  },
  {
   "cell_type": "markdown",
   "id": "121f7eb6",
   "metadata": {},
   "source": [
    "## Gridsearch"
   ]
  },
  {
   "cell_type": "markdown",
   "id": "95eb488c",
   "metadata": {},
   "source": [
    "La K-fold validation et l'hyperparamètrage sont fait au sein du Gridsearch, on n'étudiera pas plus en profondeur ces points."
   ]
  },
  {
   "cell_type": "code",
   "execution_count": 24,
   "id": "220ba632",
   "metadata": {},
   "outputs": [
    {
     "name": "stdout",
     "output_type": "stream",
     "text": [
      "GridSearchCV(cv=2, estimator=KNeighborsClassifier(),\n",
      "             param_grid={'metric': ['euclidean', 'manhattan', 'minkowski'],\n",
      "                         'n_neighbors': [1, 2, 3, 4, 5, 6, 7, 8, 9, 10, 11, 12,\n",
      "                                         13, 14, 15, 16, 17, 18, 19, 20, 21, 22,\n",
      "                                         23, 24, 25, 26, 27, 28, 29, 30]},\n",
      "             scoring='accuracy')\n"
     ]
    }
   ],
   "source": [
    "from sklearn.model_selection import GridSearchCV\n",
    "\n",
    "knn = KNeighborsClassifier()\n",
    "\n",
    "k_range = list(range(1, 31))\n",
    "param_grid = dict(n_neighbors=k_range, metric=[\"euclidean\", \"manhattan\", \"minkowski\"])\n",
    "  \n",
    "# defining parameter range\n",
    "grid = GridSearchCV(knn, param_grid, cv=2, scoring='accuracy')\n",
    "  \n",
    "print(grid)\n",
    "# fitting the model for grid search\n",
    "grid_search=grid.fit(XTrain, yTrain)"
   ]
  },
  {
   "cell_type": "code",
   "execution_count": 25,
   "id": "b1609223",
   "metadata": {},
   "outputs": [
    {
     "data": {
      "text/plain": [
       "{'metric': 'manhattan', 'n_neighbors': 9}"
      ]
     },
     "execution_count": 25,
     "metadata": {},
     "output_type": "execute_result"
    }
   ],
   "source": [
    "grid_search.best_params_"
   ]
  },
  {
   "cell_type": "markdown",
   "id": "96161716",
   "metadata": {},
   "source": [
    "## Performances"
   ]
  },
  {
   "cell_type": "code",
   "execution_count": 26,
   "id": "30e513fb",
   "metadata": {},
   "outputs": [
    {
     "name": "stdout",
     "output_type": "stream",
     "text": [
      "Précision pour le dataset d'entraînement après calibration : 88.83%\n"
     ]
    }
   ],
   "source": [
    "from sklearn.metrics import accuracy_score\n",
    "\n",
    "accuracy = grid_search.best_score_ *100\n",
    "print(\"Précision pour le dataset d'entraînement après calibration : {:.2f}%\".format(accuracy) ) "
   ]
  },
  {
   "cell_type": "code",
   "execution_count": 27,
   "id": "c8bef367",
   "metadata": {},
   "outputs": [
    {
     "data": {
      "text/plain": [
       "KNeighborsClassifier(metric='manhattan', n_neighbors=9)"
      ]
     },
     "execution_count": 27,
     "metadata": {},
     "output_type": "execute_result"
    },
    {
     "name": "stdout",
     "output_type": "stream",
     "text": [
      "Précision pour le dataset de test après calibration : 93.62%\n"
     ]
    }
   ],
   "source": [
    "knn = KNeighborsClassifier(n_neighbors=grid_search.best_params_[\"n_neighbors\"], metric=grid_search.best_params_[\"metric\"])\n",
    "\n",
    "knn.fit(XTrain, yTrain)\n",
    "\n",
    "y_test_hat=knn.predict(XTest) \n",
    "\n",
    "test_accuracy=accuracy_score(yTest,y_test_hat)*100\n",
    "\n",
    "print(\"Précision pour le dataset de test après calibration : {:.2f}%\".format(test_accuracy) ) "
   ]
  },
  {
   "cell_type": "markdown",
   "id": "00f700dc",
   "metadata": {},
   "source": [
    "## Matrice de confusion"
   ]
  },
  {
   "cell_type": "code",
   "execution_count": 28,
   "id": "5e6c542f",
   "metadata": {},
   "outputs": [
    {
     "data": {
      "image/png": "[encoded data removed]",
      "text/plain": [
       "<Figure size 432x288 with 2 Axes>"
      ]
     },
     "metadata": {
      "needs_background": "light"
     },
     "output_type": "display_data"
    }
   ],
   "source": [
    "from sklearn.metrics import confusion_matrix, ConfusionMatrixDisplay\n",
    "\n",
    "cm = confusion_matrix(yTest, y_test_hat)\n",
    "disp = ConfusionMatrixDisplay(confusion_matrix=cm)\n",
    "disp.plot();"
   ]
  },
  {
   "cell_type": "code",
   "execution_count": 30,
   "id": "3505ecd9",
   "metadata": {},
   "outputs": [],
   "source": [
    "import joblib\n",
    "joblib.dump(knn, 'ModeleKNN.pkl');"
   ]
  },
  {
   "cell_type": "markdown",
   "id": "9bdc6252",
   "metadata": {},
   "source": [
    "# Comparaison des résultats"
   ]
  },
  {
   "cell_type": "markdown",
   "id": "419ce394",
   "metadata": {},
   "source": [
    "Après comparaison des résultats entre KNN from Scratch et KNN Sklearn, on obtient des résultats comparables. Cependant après exécution de plusieurs modèles, la précision obtenue avec le KNN from Scratch est un peu meilleure et permet une meilleure prédiction des valeurs les moins fréquentes. Cela peut provenir du choix des hyperparamètres : pour le KNN from Scratch, ce choix est effectué manuellement après avoir réalisé différentes simulations, mais pour le KNN Sklearn, ce choix est effectué automatiquement suite à l'exécution d'un GridSearch. Ainsi, le modèle KNN from Scratch semble être mieux adapté à nos valeurs, mais peut être sujet à de la surinterprétation, alors que le modèle KNN Sklearn aura une meilleure prédiction sur de nouvelles valeurs."
   ]
  }
 ],
 "metadata": {
  "kernelspec": {
   "display_name": "Python 3 (ipykernel)",
   "language": "python",
   "name": "python3"
  },
  "language_info": {
   "codemirror_mode": {
    "name": "ipython",
    "version": 3
   },
   "file_extension": ".py",
   "mimetype": "text/x-python",
   "name": "python",
   "nbconvert_exporter": "python",
   "pygments_lexer": "ipython3",
   "version": "3.8.12"
  }
 },
 "nbformat": 4,
 "nbformat_minor": 5
}
