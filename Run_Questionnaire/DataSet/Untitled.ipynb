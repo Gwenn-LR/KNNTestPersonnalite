{
 "cells": [
  {
   "cell_type": "code",
   "execution_count": 1,
   "metadata": {},
   "outputs": [
    {
     "name": "stdout",
     "output_type": "stream",
     "text": [
      "C:\\Users\\utilisateur\\Documents\\Microsoft_IA\\Projets\\KNNTestPersonnalite\\Run_Questionnaire\\DataSet\n"
     ]
    }
   ],
   "source": [
    "import os\n",
    "print(os.getcwd())"
   ]
  },
  {
   "cell_type": "code",
   "execution_count": 2,
   "metadata": {},
   "outputs": [
    {
     "name": "stdout",
     "output_type": "stream",
     "text": [
      "['DataSet__2__\\x93.csv', 'DataSet__3ƼĴ__.csv', 'DataSet__aË®__.csv', 'DataSet__EǡǍ__.csv', 'DataSet__hihi__.csv', 'DataSet__iŔC__.csv', 'DataSet__PL__.csv', 'DataSet__TƎƪ__.csv', 'DataSet__\\x89ċƆ__.csv', 'DataSet__\\x93Vð__.csv', 'DataSet__¯]Ǌ__k.csv', 'DataSet__¹×Ã__.csv', 'DataSet__ÌĤĨ__.csv', 'DataSet__ñ5Ĉ__.csv', 'DataSet__Ôūs__.csv', 'DataSet__Ģ\\x93\\x95__.csv', 'DataSet__īßŏ__.csv', 'DataSet__Ŀĸ0__.csv', 'DataSet__žǠī__.csv', 'DataSet__ƒ=Ŭ__.csv', 'DataSet__ƙì___.csv', 'DataSet__ư\\x92\\x8c__.csv', 'DataSet__Ǥ\\x9dj__.csv']\n"
     ]
    }
   ],
   "source": [
    "import glob\n",
    "print(glob.glob(\"*csv\"))"
   ]
  }
 ],
 "metadata": {
  "kernelspec": {
   "display_name": "Python 3",
   "language": "python",
   "name": "python3"
  },
  "language_info": {
   "codemirror_mode": {
    "name": "ipython",
    "version": 3
   },
   "file_extension": ".py",
   "mimetype": "text/x-python",
   "name": "python",
   "nbconvert_exporter": "python",
   "pygments_lexer": "ipython3",
   "version": "3.8.3"
  }
 },
 "nbformat": 4,
 "nbformat_minor": 4
}
